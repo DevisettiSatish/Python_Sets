{
 "cells": [
  {
   "cell_type": "code",
   "execution_count": null,
   "id": "c2295acb",
   "metadata": {},
   "outputs": [],
   "source": [
    "# sets is a mutable data type\n",
    "# it is Represted by {}\n",
    "# sets can accept any Data type\n",
    "# set is inordered pair\n",
    "# set can not Accepted Duplicates Values\n"
   ]
  },
  {
   "cell_type": "code",
   "execution_count": 1,
   "id": "9fd1bfc1",
   "metadata": {},
   "outputs": [
    {
     "name": "stdout",
     "output_type": "stream",
     "text": [
      "{450, 10, 100, 70}\n",
      "<class 'set'>\n"
     ]
    }
   ],
   "source": [
    "x={10,450,70,100}  # save in memory\n",
    "print(x)            # calling the Function\n",
    "print(type(x))       #  what type of Datatype"
   ]
  },
  {
   "cell_type": "code",
   "execution_count": 2,
   "id": "80b0b171",
   "metadata": {},
   "outputs": [
    {
     "name": "stdout",
     "output_type": "stream",
     "text": [
      "{'satish', 155, 143.45}\n",
      "<class 'set'>\n"
     ]
    }
   ],
   "source": [
    "a={155,143.45,'satish'}  # sets is unorderd pair\n",
    "print(a)\n",
    "print(type(a))"
   ]
  },
  {
   "cell_type": "code",
   "execution_count": 3,
   "id": "36db7774",
   "metadata": {},
   "outputs": [
    {
     "name": "stdout",
     "output_type": "stream",
     "text": [
      "{1, 2, 3, 5, 7, 9, 11, 13}\n"
     ]
    }
   ],
   "source": [
    "int={1,3,5,7,9,11,13,2,3,5,7} # sets can not Accepted Duplicates Values\n",
    "print(int)"
   ]
  },
  {
   "cell_type": "code",
   "execution_count": 5,
   "id": "05ea3337",
   "metadata": {},
   "outputs": [
    {
     "name": "stdout",
     "output_type": "stream",
     "text": [
      "{'kiran', 17, 'sai', 235.67, 12, 'sandeep', 15}\n"
     ]
    }
   ],
   "source": [
    "names={'sai','kiran','sandeep','sai',12,15,17,235.67}\n",
    "print(names)"
   ]
  },
  {
   "cell_type": "code",
   "execution_count": 6,
   "id": "bef3ed90",
   "metadata": {},
   "outputs": [
    {
     "name": "stdout",
     "output_type": "stream",
     "text": [
      "{1, 'satish', 4, 7, 155, 12, 143.45}\n"
     ]
    }
   ],
   "source": [
    "# add function is used to only single Value\n",
    "\n",
    "a={155,143.45,'satish',1,4,7}\n",
    "a.add(12) \n",
    "print(a)"
   ]
  },
  {
   "cell_type": "code",
   "execution_count": 7,
   "id": "ea4527e0",
   "metadata": {},
   "outputs": [
    {
     "name": "stdout",
     "output_type": "stream",
     "text": [
      "{50, 20, 70, 10, 235.67, 30, 'hari'}\n",
      "<class 'set'>\n"
     ]
    }
   ],
   "source": [
    "b={10,30,50,70,20,235.67,'hari'}\n",
    "print(b)\n",
    "print(type(b))"
   ]
  },
  {
   "cell_type": "code",
   "execution_count": 8,
   "id": "079d642f",
   "metadata": {},
   "outputs": [
    {
     "name": "stdout",
     "output_type": "stream",
     "text": [
      "{1, 4, 70, 7, 10, 'hari', 20, 30, 235.67, 50}\n"
     ]
    }
   ],
   "source": [
    "# update function is used to Multiple values \n",
    "\n",
    "b={10,30,50,70,20,235.67,'hari'}\n",
    "b.update([1,4,7,10])\n",
    "print(b)"
   ]
  },
  {
   "cell_type": "code",
   "execution_count": 12,
   "id": "5e925539",
   "metadata": {},
   "outputs": [
    {
     "name": "stdout",
     "output_type": "stream",
     "text": [
      "{100, 70, 40, 10, 'satish', 50, 'kiran', 20, 90, 'sai', 30}\n"
     ]
    }
   ],
   "source": [
    "P={10,20,30,40,50,70,90,100}\n",
    "P.update(['sai','satish','kiran'])\n",
    "print(P)"
   ]
  },
  {
   "cell_type": "code",
   "execution_count": 13,
   "id": "e24825fd",
   "metadata": {},
   "outputs": [
    {
     "name": "stdout",
     "output_type": "stream",
     "text": [
      "{70, 40, 10, 50, 20, 90, 30}\n"
     ]
    }
   ],
   "source": [
    "# pop function is used to Randomlly it will Remove\n",
    "\n",
    "P={10,20,30,40,50,70,90,100}\n",
    "P.pop()   # randomally it will Remove the Value\n",
    "print(P)"
   ]
  },
  {
   "cell_type": "code",
   "execution_count": 14,
   "id": "b5324e44",
   "metadata": {},
   "outputs": [
    {
     "name": "stdout",
     "output_type": "stream",
     "text": [
      "{3, 5, 'Tech', 7, 9, 10, 235.67}\n"
     ]
    }
   ],
   "source": [
    "Q={1,3,5,7,9,10,235.67,'Tech'}\n",
    "Q.pop()\n",
    "print(Q)"
   ]
  },
  {
   "cell_type": "code",
   "execution_count": 15,
   "id": "abd97b31",
   "metadata": {},
   "outputs": [
    {
     "name": "stdout",
     "output_type": "stream",
     "text": [
      "{100, 70, 10, 30}\n"
     ]
    }
   ],
   "source": [
    "R={10,30,50,70,100}\n",
    "R.remove(50)\n",
    "print(R)"
   ]
  },
  {
   "cell_type": "code",
   "execution_count": 16,
   "id": "fb32362e",
   "metadata": {},
   "outputs": [
    {
     "ename": "KeyError",
     "evalue": "150",
     "output_type": "error",
     "traceback": [
      "\u001b[1;31m---------------------------------------------------------------------------\u001b[0m",
      "\u001b[1;31mKeyError\u001b[0m                                  Traceback (most recent call last)",
      "Cell \u001b[1;32mIn[16], line 2\u001b[0m\n\u001b[0;32m      1\u001b[0m R\u001b[38;5;241m=\u001b[39m{\u001b[38;5;241m10\u001b[39m,\u001b[38;5;241m30\u001b[39m,\u001b[38;5;241m50\u001b[39m,\u001b[38;5;241m70\u001b[39m,\u001b[38;5;241m100\u001b[39m}\n\u001b[1;32m----> 2\u001b[0m R\u001b[38;5;241m.\u001b[39mremove(\u001b[38;5;241m150\u001b[39m)\n\u001b[0;32m      3\u001b[0m \u001b[38;5;28mprint\u001b[39m(R)\n",
      "\u001b[1;31mKeyError\u001b[0m: 150"
     ]
    }
   ],
   "source": [
    "R={10,30,50,70,100}\n",
    "R.remove(150)\n",
    "print(R)"
   ]
  },
  {
   "cell_type": "code",
   "execution_count": 17,
   "id": "c09fb65d",
   "metadata": {},
   "outputs": [
    {
     "name": "stdout",
     "output_type": "stream",
     "text": [
      "{1, 'hai', 3, 5, 7, 9, 10, 235.67, 235}\n",
      "{1, 'hai', 3, 5, 7, 9, 10, 235.67, 235}\n"
     ]
    }
   ],
   "source": [
    "# copy function is used to one Varible to other Varible\n",
    "\n",
    "Q={1,3,5,7,9,10,235.67,235,'hai'}\n",
    "P=Q.copy()\n",
    "\n",
    "print(Q)\n",
    "print(P)\n"
   ]
  },
  {
   "cell_type": "code",
   "execution_count": 18,
   "id": "bcb2bab7",
   "metadata": {},
   "outputs": [
    {
     "name": "stdout",
     "output_type": "stream",
     "text": [
      "set()\n"
     ]
    }
   ],
   "source": [
    "# clear\n",
    "\n",
    "Q={1,3,5,7,9,10,235.67,235,'hai'}\n",
    "Q.clear()\n",
    "print(Q)"
   ]
  },
  {
   "cell_type": "code",
   "execution_count": 20,
   "id": "74136232",
   "metadata": {},
   "outputs": [
    {
     "name": "stdout",
     "output_type": "stream",
     "text": [
      "{1, 2, 3, 4, 5, 6, 7, 8, 9, 10, 11, 12, 15, 17}\n"
     ]
    }
   ],
   "source": [
    "# union function is used to No Duplicates values\n",
    "\n",
    "a={1,2,3,4,5,6,7,8,9,10}\n",
    "b={11,3,6,12,15,17}\n",
    "\n",
    "print(a.union(b))"
   ]
  },
  {
   "cell_type": "code",
   "execution_count": 22,
   "id": "d2171021",
   "metadata": {},
   "outputs": [
    {
     "name": "stdout",
     "output_type": "stream",
     "text": [
      "{3, 6}\n"
     ]
    }
   ],
   "source": [
    "# intersection function is used to Common Values\n",
    "a={1,2,3,4,5,6,7,8,9,10}\n",
    "b={11,3,6,12,15,17}\n",
    "\n",
    "print(a.intersection(b))"
   ]
  },
  {
   "cell_type": "code",
   "execution_count": null,
   "id": "ba3118fd",
   "metadata": {},
   "outputs": [],
   "source": []
  }
 ],
 "metadata": {
  "kernelspec": {
   "display_name": "Python 3 (ipykernel)",
   "language": "python",
   "name": "python3"
  },
  "language_info": {
   "codemirror_mode": {
    "name": "ipython",
    "version": 3
   },
   "file_extension": ".py",
   "mimetype": "text/x-python",
   "name": "python",
   "nbconvert_exporter": "python",
   "pygments_lexer": "ipython3",
   "version": "3.11.5"
  }
 },
 "nbformat": 4,
 "nbformat_minor": 5
}
